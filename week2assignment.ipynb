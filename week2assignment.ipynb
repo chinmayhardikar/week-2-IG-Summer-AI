{
 "cells": [
  {
   "cell_type": "code",
   "execution_count": 115,
   "metadata": {
    "colab": {
     "base_uri": "https://localhost:8080/",
     "height": 71
    },
    "colab_type": "code",
    "executionInfo": {
     "elapsed": 2959,
     "status": "ok",
     "timestamp": 1587831772954,
     "user": {
      "displayName": "Rajshree Singh",
      "photoUrl": "",
      "userId": "13678216986636707717"
     },
     "user_tz": -330
    },
    "id": "_v5vdxDTAg2e",
    "outputId": "c130c359-58bd-46ae-cdfa-e7d4c84ecf91"
   },
   "outputs": [],
   "source": [
    "import tensorflow.compat.v1 as tf\n",
    "tf.disable_v2_behavior()\n",
    "%matplotlib inline\n",
    "import numpy as np # linear algebra\n",
    "import seaborn as sns #statistical data visualization\n",
    "sns.set(style='whitegrid')\n",
    "import pandas as pd # data processing, CSV file I/O (e.g. pd.read_csv)\n",
    "import matplotlib.pyplot as plt"
   ]
  },
  {
   "cell_type": "code",
   "execution_count": 116,
   "metadata": {
    "colab": {
     "base_uri": "https://localhost:8080/",
     "height": 164
    },
    "colab_type": "code",
    "executionInfo": {
     "elapsed": 2541,
     "status": "error",
     "timestamp": 1587831778722,
     "user": {
      "displayName": "Rajshree Singh",
      "photoUrl": "",
      "userId": "13678216986636707717"
     },
     "user_tz": -330
    },
    "id": "tDpdz3P_Ag2o",
    "outputId": "f140b5f9-5a1d-4096-ca3b-4309bcdbd9ba"
   },
   "outputs": [
    {
     "data": {
      "text/html": [
       "<div>\n",
       "<style scoped>\n",
       "    .dataframe tbody tr th:only-of-type {\n",
       "        vertical-align: middle;\n",
       "    }\n",
       "\n",
       "    .dataframe tbody tr th {\n",
       "        vertical-align: top;\n",
       "    }\n",
       "\n",
       "    .dataframe thead th {\n",
       "        text-align: right;\n",
       "    }\n",
       "</style>\n",
       "<table border=\"1\" class=\"dataframe\">\n",
       "  <thead>\n",
       "    <tr style=\"text-align: right;\">\n",
       "      <th></th>\n",
       "      <th>sepal_length</th>\n",
       "      <th>sepal_width</th>\n",
       "      <th>petal_length</th>\n",
       "      <th>petal_width</th>\n",
       "      <th>species</th>\n",
       "    </tr>\n",
       "  </thead>\n",
       "  <tbody>\n",
       "    <tr>\n",
       "      <th>0</th>\n",
       "      <td>5.1</td>\n",
       "      <td>3.5</td>\n",
       "      <td>1.4</td>\n",
       "      <td>0.2</td>\n",
       "      <td>setosa</td>\n",
       "    </tr>\n",
       "    <tr>\n",
       "      <th>1</th>\n",
       "      <td>4.9</td>\n",
       "      <td>3.0</td>\n",
       "      <td>1.4</td>\n",
       "      <td>0.2</td>\n",
       "      <td>setosa</td>\n",
       "    </tr>\n",
       "    <tr>\n",
       "      <th>2</th>\n",
       "      <td>4.7</td>\n",
       "      <td>3.2</td>\n",
       "      <td>1.3</td>\n",
       "      <td>0.2</td>\n",
       "      <td>setosa</td>\n",
       "    </tr>\n",
       "    <tr>\n",
       "      <th>3</th>\n",
       "      <td>4.6</td>\n",
       "      <td>3.1</td>\n",
       "      <td>1.5</td>\n",
       "      <td>0.2</td>\n",
       "      <td>setosa</td>\n",
       "    </tr>\n",
       "    <tr>\n",
       "      <th>4</th>\n",
       "      <td>5.0</td>\n",
       "      <td>3.6</td>\n",
       "      <td>1.4</td>\n",
       "      <td>0.2</td>\n",
       "      <td>setosa</td>\n",
       "    </tr>\n",
       "  </tbody>\n",
       "</table>\n",
       "</div>"
      ],
      "text/plain": [
       "   sepal_length  sepal_width  petal_length  petal_width species\n",
       "0           5.1          3.5           1.4          0.2  setosa\n",
       "1           4.9          3.0           1.4          0.2  setosa\n",
       "2           4.7          3.2           1.3          0.2  setosa\n",
       "3           4.6          3.1           1.5          0.2  setosa\n",
       "4           5.0          3.6           1.4          0.2  setosa"
      ]
     },
     "execution_count": 116,
     "metadata": {},
     "output_type": "execute_result"
    }
   ],
   "source": [
    "#https://gist.githubusercontent.com/curran/a08a1080b88344b0c8a7/raw/639388c2cbc2120a14dcf466e85730eb8be498bb/iris.csv\n",
    "#link to download the CSV file\n",
    "#line1-------------\n",
    "Iris = pd.read_csv(\"iris.csv\")\n",
    "Iris.head()"
   ]
  },
  {
   "cell_type": "code",
   "execution_count": 117,
   "metadata": {
    "colab": {},
    "colab_type": "code",
    "id": "j9BJfP9gAg2w",
    "outputId": "4d5cdfb3-ce6b-48c7-de08-929717ae65b6"
   },
   "outputs": [
    {
     "data": {
      "text/plain": [
       "(150, 5)"
      ]
     },
     "execution_count": 117,
     "metadata": {},
     "output_type": "execute_result"
    }
   ],
   "source": [
    "Iris.shape"
   ]
  },
  {
   "cell_type": "code",
   "execution_count": 118,
   "metadata": {
    "colab": {},
    "colab_type": "code",
    "id": "sHA5b1T8Ag22",
    "outputId": "f09e1e63-367a-48e9-ea85-00997dad5afe"
   },
   "outputs": [
    {
     "data": {
      "text/plain": [
       "(100, 5)"
      ]
     },
     "execution_count": 118,
     "metadata": {},
     "output_type": "execute_result"
    }
   ],
   "source": [
    "#since we are gonna perform binary classification using Logistic Regression we will only include first 100 samples which consists of irises’ (Setosa and Versicolour)\n",
    "#line2-------------\n",
    "Iris=Iris[:100]\n",
    "Iris.shape"
   ]
  },
  {
   "cell_type": "code",
   "execution_count": 119,
   "metadata": {
    "colab": {},
    "colab_type": "code",
    "id": "MQVC0kAGAg28"
   },
   "outputs": [],
   "source": [
    "'''Step 2: Numerical processing\n",
    "replace 'Iris-setosa' as 0\n",
    "replace 'Iris-versicolor' as 1'''\n",
    "#line3-------------------------\n",
    "Iris.replace(to_replace=\"setosa\", value=0, inplace=True)\n",
    "Iris.replace(to_replace=\"versicolor\", value=1, inplace=True)"
   ]
  },
  {
   "cell_type": "code",
   "execution_count": 120,
   "metadata": {
    "colab": {},
    "colab_type": "code",
    "id": "SPs6169hAg3C",
    "outputId": "a2726d81-b13d-44f7-a0c6-8696c3009121"
   },
   "outputs": [
    {
     "data": {
      "text/html": [
       "<div>\n",
       "<style scoped>\n",
       "    .dataframe tbody tr th:only-of-type {\n",
       "        vertical-align: middle;\n",
       "    }\n",
       "\n",
       "    .dataframe tbody tr th {\n",
       "        vertical-align: top;\n",
       "    }\n",
       "\n",
       "    .dataframe thead th {\n",
       "        text-align: right;\n",
       "    }\n",
       "</style>\n",
       "<table border=\"1\" class=\"dataframe\">\n",
       "  <thead>\n",
       "    <tr style=\"text-align: right;\">\n",
       "      <th></th>\n",
       "      <th>sepal_length</th>\n",
       "      <th>sepal_width</th>\n",
       "      <th>petal_length</th>\n",
       "      <th>petal_width</th>\n",
       "      <th>species</th>\n",
       "    </tr>\n",
       "  </thead>\n",
       "  <tbody>\n",
       "    <tr>\n",
       "      <th>0</th>\n",
       "      <td>5.1</td>\n",
       "      <td>3.5</td>\n",
       "      <td>1.4</td>\n",
       "      <td>0.2</td>\n",
       "      <td>0</td>\n",
       "    </tr>\n",
       "    <tr>\n",
       "      <th>1</th>\n",
       "      <td>4.9</td>\n",
       "      <td>3.0</td>\n",
       "      <td>1.4</td>\n",
       "      <td>0.2</td>\n",
       "      <td>0</td>\n",
       "    </tr>\n",
       "    <tr>\n",
       "      <th>2</th>\n",
       "      <td>4.7</td>\n",
       "      <td>3.2</td>\n",
       "      <td>1.3</td>\n",
       "      <td>0.2</td>\n",
       "      <td>0</td>\n",
       "    </tr>\n",
       "    <tr>\n",
       "      <th>3</th>\n",
       "      <td>4.6</td>\n",
       "      <td>3.1</td>\n",
       "      <td>1.5</td>\n",
       "      <td>0.2</td>\n",
       "      <td>0</td>\n",
       "    </tr>\n",
       "    <tr>\n",
       "      <th>4</th>\n",
       "      <td>5.0</td>\n",
       "      <td>3.6</td>\n",
       "      <td>1.4</td>\n",
       "      <td>0.2</td>\n",
       "      <td>0</td>\n",
       "    </tr>\n",
       "  </tbody>\n",
       "</table>\n",
       "</div>"
      ],
      "text/plain": [
       "   sepal_length  sepal_width  petal_length  petal_width  species\n",
       "0           5.1          3.5           1.4          0.2        0\n",
       "1           4.9          3.0           1.4          0.2        0\n",
       "2           4.7          3.2           1.3          0.2        0\n",
       "3           4.6          3.1           1.5          0.2        0\n",
       "4           5.0          3.6           1.4          0.2        0"
      ]
     },
     "execution_count": 120,
     "metadata": {},
     "output_type": "execute_result"
    }
   ],
   "source": [
    "Iris.head()"
   ]
  },
  {
   "cell_type": "code",
   "execution_count": 121,
   "metadata": {
    "colab": {},
    "colab_type": "code",
    "id": "1oJ78uA_Ag3I",
    "outputId": "5d07937f-c467-4515-bc98-c5ee78b04689"
   },
   "outputs": [],
   "source": [
    "#visualization of given dataset\n",
    "#codesegment4------------------\n",
    "x1 = np.array(Iris.loc[(Iris[\"species\"] == 0), \"sepal_length\"])\n",
    "x2 = np.array(Iris.loc[(Iris[\"species\"] == 1), \"sepal_length\"])\n",
    "y1 = np.array(Iris.loc[(Iris[\"species\"] == 0), \"sepal_width\"])\n",
    "y2 = np.array(Iris.loc[(Iris[\"species\"] == 1), \"sepal_width\"])"
   ]
  },
  {
   "cell_type": "code",
   "execution_count": 122,
   "metadata": {
    "colab": {},
    "colab_type": "code",
    "id": "o32UsRPJAg3P"
   },
   "outputs": [
    {
     "data": {
      "image/png": "[encoded data removed]",
      "text/plain": [
       "<Figure size 432x288 with 1 Axes>"
      ]
     },
     "metadata": {},
     "output_type": "display_data"
    }
   ],
   "source": [
    "plt.scatter(x1,y1, label=\"setosa\")\n",
    "plt.scatter(x2, y2, label=\"versicolor\")\n",
    "\n",
    "plt.xlabel('Sepal Length')\n",
    "plt.ylabel('Sepal Width')\n",
    "plt.legend(loc='best')\n",
    "plt.show()"
   ]
  },
  {
   "cell_type": "code",
   "execution_count": 123,
   "metadata": {
    "colab": {},
    "colab_type": "code",
    "id": "d__MZAtiAg3V"
   },
   "outputs": [],
   "source": [
    "X = Iris.drop(labels=['species'], axis=1).values #feature matrix\n",
    "Y = Iris.species.values #output"
   ]
  },
  {
   "cell_type": "code",
   "execution_count": 124,
   "metadata": {
    "colab": {},
    "colab_type": "code",
    "id": "tPmiCqbVAg3a"
   },
   "outputs": [],
   "source": [
    "shuffled = np.random.permutation(len(Iris))\n",
    "train_index = shuffled[20:]\n",
    "test_index = shuffled[:20]\n",
    "\n",
    "train_X = X[train_index]\n",
    "train_y = Y[train_index]\n",
    "test_X = X[test_index]\n",
    "test_y = Y[test_index]"
   ]
  },
  {
   "cell_type": "code",
   "execution_count": 125,
   "metadata": {
    "colab": {},
    "colab_type": "code",
    "id": "-Ukkj8NSAg3f"
   },
   "outputs": [],
   "source": [
    "# Define the min-max normalization function\n",
    "def min_max_normalized(data):\n",
    "# we are using here min-max normalisation, helpful to bring down every values in all the feature columns of the dataset to common scale \n",
    "#codesegment8------------------\n",
    "    min=np.min(data)\n",
    "    max=np.max(data)\n",
    "    mean=np.mean(data)\n",
    "    list=[]\n",
    "    list.append((d-mean)/(max-min) for d in data)\n",
    "    return list        "
   ]
  },
  {
   "cell_type": "code",
   "execution_count": 126,
   "metadata": {
    "colab": {},
    "colab_type": "code",
    "id": "MLtDm47gAg3l",
    "outputId": "af04652c-e125-4d85-8d4c-e3f21881c46f"
   },
   "outputs": [],
   "source": [
    "# Begin building the model framework\n",
    "# Declare the variables that need to be learned and initialization\n",
    "# There are 4 features here, so W's dimension is (4, 1)\n",
    "#line9---------------------------- #weights\n",
    "W = tf.Variable(tf.random_normal(shape=[4,1]))\n",
    "b = tf.Variable(tf.random_normal(shape=[1, 1])) #bias\n",
    "#constructor for random initialization\n",
    "#line10\n",
    "init = tf.global_variables_initializer()\n",
    "sess = tf.Session()\n",
    "sess.run(init)"
   ]
  },
  {
   "cell_type": "code",
   "execution_count": 127,
   "metadata": {
    "colab": {},
    "colab_type": "code",
    "id": "3D33yPKlAg3s"
   },
   "outputs": [],
   "source": [
    "# Define placeholders\n",
    "data = tf.placeholder(dtype=tf.float32, shape=[None, 4])\n",
    "#comment on the difference between tf.placeholder and tf.variable-----\n",
    "#Placeholders are initially empty and are used to feed the training samples to the model.\n",
    "#Variables can be updated after initialization unlike placeholders.\n",
    "target = tf.placeholder(dtype=tf.float32, shape=[None, 1])"
   ]
  },
  {
   "cell_type": "code",
   "execution_count": 128,
   "metadata": {
    "colab": {
     "base_uri": "https://localhost:8080/",
     "height": 233
    },
    "colab_type": "code",
    "executionInfo": {
     "elapsed": 2036,
     "status": "error",
     "timestamp": 1587831759036,
     "user": {
      "displayName": "Rajshree Singh",
      "photoUrl": "",
      "userId": "13678216986636707717"
     },
     "user_tz": -330
    },
    "id": "_M2SUf9BGKEQ",
    "outputId": "b5b6d4d3-a226-461d-e290-2225eabf5ba6"
   },
   "outputs": [],
   "source": [
    "train_X = train_X.astype('float32')"
   ]
  },
  {
   "cell_type": "code",
   "execution_count": 129,
   "metadata": {
    "colab": {},
    "colab_type": "code",
    "id": "Ce45iz4dAg32"
   },
   "outputs": [],
   "source": [
    "# Declare the 'model' you need to learn\n",
    "#line11-------------------------------------------\n",
    "mod = tf.add(tf.matmul(data, W), b)"
   ]
  },
  {
   "cell_type": "code",
   "execution_count": 130,
   "metadata": {
    "colab": {},
    "colab_type": "code",
    "id": "Pvk6PwmhAg36"
   },
   "outputs": [],
   "source": [
    "# Declare loss function\n",
    "# Use the sigmoid cross-entropy loss function,\n",
    "# first doing a sigmoid on the model result and then using the cross-entropy loss function\n",
    "loss = tf.reduce_mean(tf.nn.sigmoid_cross_entropy_with_logits(logits=mod, labels=target))"
   ]
  },
  {
   "cell_type": "code",
   "execution_count": 131,
   "metadata": {
    "colab": {},
    "colab_type": "code",
    "id": "QnI6baGyAg3_"
   },
   "outputs": [],
   "source": [
    "# Define the learning rate， batch_size and number of iterations.\n",
    "learning_rate = 0.01\n",
    "batch_size = 32 #using batch makes the training ------?\n",
    "iter_num = 1500"
   ]
  },
  {
   "cell_type": "code",
   "execution_count": 132,
   "metadata": {
    "colab": {},
    "colab_type": "code",
    "id": "36wWl9-UAg4E"
   },
   "outputs": [],
   "source": [
    "# Define the optimizer with name opt\n",
    "#line14-----------------------------\n",
    "opt = tf.train.GradientDescentOptimizer(learning_rate = learning_rate)\n",
    "# Define the goal\n",
    "goal = opt.minimize(loss)"
   ]
  },
  {
   "cell_type": "code",
   "execution_count": 133,
   "metadata": {
    "colab": {},
    "colab_type": "code",
    "id": "lCAkqMk1Ag4K"
   },
   "outputs": [],
   "source": [
    "# Define the accuracy\n",
    "# The default threshold is 0.5, rounded off directly\n",
    "prediction = tf.round(tf.sigmoid(mod))\n",
    "# Bool into float32 type\n",
    "correct = tf.cast(tf.equal(prediction, target), dtype=tf.float32)\n",
    "# Average\n",
    "accuracy = tf.reduce_mean(correct)\n",
    "# End of the definition of the model framework"
   ]
  },
  {
   "cell_type": "code",
   "execution_count": 134,
   "metadata": {
    "colab": {},
    "colab_type": "code",
    "id": "rBQW_wGqAg4Q"
   },
   "outputs": [],
   "source": [
    "# Start training model\n",
    "# Define the variable that stores the result\n",
    "loss_trace = []\n",
    "train_acc = []"
   ]
  },
  {
   "cell_type": "code",
   "execution_count": 135,
   "metadata": {
    "colab": {},
    "colab_type": "code",
    "id": "I2Orf3sWAg4V",
    "outputId": "38b3a647-c501-44ee-e9e2-9a9dc703babd"
   },
   "outputs": [
    {
     "name": "stdout",
     "output_type": "stream",
     "text": [
      "epoch:  100 loss: 0.674163 train_acc: 0.533333 \n",
      "epoch:  200 loss: 0.380744 train_acc: 1.000000 \n",
      "epoch:  300 loss: 0.259041 train_acc: 1.000000 \n",
      "epoch:  400 loss: 0.200520 train_acc: 1.000000 \n",
      "epoch:  500 loss: 0.143607 train_acc: 1.000000 \n",
      "epoch:  600 loss: 0.146964 train_acc: 1.000000 \n",
      "epoch:  700 loss: 0.122936 train_acc: 1.000000 \n",
      "epoch:  800 loss: 0.081416 train_acc: 1.000000 \n",
      "epoch:  900 loss: 0.091731 train_acc: 1.000000 \n",
      "epoch: 1000 loss: 0.083945 train_acc: 1.000000 \n",
      "epoch: 1100 loss: 0.067068 train_acc: 1.000000 \n",
      "epoch: 1200 loss: 0.072272 train_acc: 1.000000 \n",
      "epoch: 1300 loss: 0.065171 train_acc: 1.000000 \n",
      "epoch: 1400 loss: 0.047167 train_acc: 1.000000 \n",
      "epoch: 1500 loss: 0.058808 train_acc: 1.000000 \n",
      "The test accuracy is: 1.000000\n"
     ]
    }
   ],
   "source": [
    "# training model using mini-batch gradient descent\n",
    "for epoch in range(iter_num):\n",
    "    # Generate random batch_index\n",
    "    #randomnly picks up up 30 sample data from the train_X\n",
    "    batch_index = np.random.permutation(len(train_X))[:30]\n",
    "    batch_train_X = train_X[batch_index]\n",
    "    batch_train_y = np.matrix(train_y[batch_index]).T\n",
    "    sess.run(goal, feed_dict={data: batch_train_X, target: batch_train_y})\n",
    "    temp_loss = sess.run(loss, feed_dict={data: batch_train_X, target: batch_train_y})\n",
    "    loss_trace.append(temp_loss)\n",
    "    #Similarly store train accuracy value for current epoch using sess.run\n",
    "    train_acc.append(sess.run(accuracy, feed_dict={data: batch_train_X, target: batch_train_y}))\n",
    "    # recode the results of loss and train accuracy\n",
    "    temp_train_acc = sess.run(accuracy, feed_dict={data: batch_train_X, target: batch_train_y})\n",
    "    # output\n",
    "    if (epoch + 1) % 100 == 0:\n",
    "        print('epoch: {:4d} loss: {:5f} train_acc: {:5f} '.format(epoch + 1, temp_loss,\n",
    "                                                                          temp_train_acc))\n",
    "#Write the command to calculate test accuracy:\n",
    "test_y = np.matrix(test_y).T\n",
    "temp_test_acc = sess.run(accuracy, feed_dict={data: test_X, target: test_y})\n",
    "print(\"The test accuracy is: {:5f}\".format(temp_test_acc))\n",
    "sess.close()"
   ]
  },
  {
   "cell_type": "code",
   "execution_count": 136,
   "metadata": {
    "colab": {},
    "colab_type": "code",
    "id": "tbBZehEEAg4Z",
    "outputId": "6b9adaff-9ed8-4f59-be2a-659e48cc2f7c"
   },
   "outputs": [
    {
     "data": {
      "image/png": "[encoded data removed]",
      "text/plain": [
       "<Figure size 432x288 with 1 Axes>"
      ]
     },
     "metadata": {},
     "output_type": "display_data"
    }
   ],
   "source": [
    "plt.plot(range(iter_num), loss_trace)\n",
    "plt.xlabel('epoch')\n",
    "plt.ylabel('loss')\n",
    "plt.title('Cross Entropy Loss')\n",
    "plt.show()"
   ]
  },
  {
   "cell_type": "code",
   "execution_count": 137,
   "metadata": {
    "colab": {},
    "colab_type": "code",
    "id": "SLO1EL-bAg4e",
    "outputId": "7c6f1dbc-ef48-47c5-be3f-a38c79c5e367"
   },
   "outputs": [
    {
     "data": {
      "image/png": "[encoded data removed]",
      "text/plain": [
       "<Figure size 432x288 with 1 Axes>"
      ]
     },
     "metadata": {},
     "output_type": "display_data"
    }
   ],
   "source": [
    "plt.plot(range(iter_num), train_acc)\n",
    "plt.xlabel('epoch')\n",
    "plt.ylabel('accuracy')\n",
    "plt.title('Train Accuracy')\n",
    "plt.show()"
   ]
  },
  {
   "cell_type": "code",
   "execution_count": null,
   "metadata": {},
   "outputs": [],
   "source": []
  }
 ],
 "metadata": {
  "colab": {
   "name": "week2_assignment.ipynb",
   "provenance": []
  },
  "kernelspec": {
   "display_name": "Python 3",
   "language": "python",
   "name": "python3"
  },
  "language_info": {
   "codemirror_mode": {
    "name": "ipython",
    "version": 3
   },
   "file_extension": ".py",
   "mimetype": "text/x-python",
   "name": "python",
   "nbconvert_exporter": "python",
   "pygments_lexer": "ipython3",
   "version": "3.7.7"
  }
 },
 "nbformat": 4,
 "nbformat_minor": 1
}
